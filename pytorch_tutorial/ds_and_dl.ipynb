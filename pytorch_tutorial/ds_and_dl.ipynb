{
 "cells": [
  {
   "cell_type": "code",
   "execution_count": 1,
   "id": "75703104",
   "metadata": {},
   "outputs": [],
   "source": [
    "import torch\n",
    "from torch.utils.data import Dataset, DataLoader\n",
    "from torchvision import datasets\n",
    "from torchvision.transforms import ToTensor\n",
    "import matplotlib.pyplot as plt\n",
    "from torch import nn, optim\n",
    "\n",
    "%matplotlib inline "
   ]
  },
  {
   "cell_type": "markdown",
   "id": "a9903f85",
   "metadata": {},
   "source": [
    "## Loading FashionMNIST dataset"
   ]
  },
  {
   "cell_type": "code",
   "execution_count": 2,
   "id": "43ffac6e",
   "metadata": {},
   "outputs": [],
   "source": [
    "training_data = datasets.FashionMNIST(\n",
    "    root=\"data\",\n",
    "    train=True,\n",
    "    download=True,\n",
    "    transform=ToTensor()\n",
    ")\n",
    "\n",
    "test_data = datasets.FashionMNIST(\n",
    "    root=\"data\",\n",
    "    train=False,\n",
    "    download=True,\n",
    "    transform=ToTensor()\n",
    ")"
   ]
  },
  {
   "cell_type": "markdown",
   "id": "f1753b68",
   "metadata": {},
   "source": [
    "## Iterate and visualize the dataset"
   ]
  },
  {
   "cell_type": "code",
   "execution_count": 3,
   "id": "b98353ad",
   "metadata": {},
   "outputs": [],
   "source": [
    "# Create a dictionary for labelset\n",
    "labelmap = {\n",
    "    0: \"T-shirt\",\n",
    "    1: \"Trouser\",\n",
    "    2: \"Pullover\",\n",
    "    3: \"Dress\",\n",
    "    4: \"Coat\", \n",
    "    5: \"Sandal\",\n",
    "    6: \"Shirt\",\n",
    "    7: \"Sneaker\",\n",
    "    8: \"Bag\", \n",
    "    9: \"Ankle boot\",\n",
    "}"
   ]
  },
  {
   "cell_type": "code",
   "execution_count": 4,
   "id": "20e2e997",
   "metadata": {},
   "outputs": [
    {
     "data": {
      "image/png": "[encoded data removed]",
      "text/plain": [
       "<Figure size 576x576 with 9 Axes>"
      ]
     },
     "metadata": {
      "needs_background": "light"
     },
     "output_type": "display_data"
    }
   ],
   "source": [
    "figure = plt.figure(figsize=(8, 8))\n",
    "cols, rows = 3, 3\n",
    "for i in range(1, cols*rows+1):\n",
    "    sample_idx = torch.randint(len(training_data), size= (1,)).item()\n",
    "    training_img, training_lbl = training_data[sample_idx]\n",
    "    figure.add_subplot(rows, cols, i)\n",
    "    plt.title(labelmap[training_lbl])\n",
    "    plt.axis('off')\n",
    "    plt.imshow(training_img.squeeze(), cmap='gray')\n",
    "plt.show()"
   ]
  },
  {
   "cell_type": "markdown",
   "id": "16edde9b",
   "metadata": {},
   "source": [
    "# Creating a custom dataset"
   ]
  },
  {
   "cell_type": "code",
   "execution_count": 5,
   "id": "b8a2070f",
   "metadata": {},
   "outputs": [],
   "source": [
    "import pandas as pd\n",
    "from torchvision.io import read_image"
   ]
  },
  {
   "cell_type": "code",
   "execution_count": 6,
   "id": "09749b24",
   "metadata": {},
   "outputs": [],
   "source": [
    "class customdataset(Dataset):\n",
    "    def __init__(self, img_dir, annotations_file, img_transform=None, tgt_transform=None):\n",
    "        self.img_labels = pd.read_csv(annotations_file)\n",
    "        self.img_dir = img_dir\n",
    "        self.img_transform = img_transform\n",
    "        self.tgt.transform = tgt_transform\n",
    "        \n",
    "    def __len__(self):\n",
    "        return len(self.img_labels)\n",
    "        \n",
    "    def __getitem__(self, idx):\n",
    "        img_path = os.path.join(img_dir, self.img_labels.iloc[idx, 0])\n",
    "        ip_img = read_csv(img_path)\n",
    "        tgt_lbl = self.img_labels.iloc[idx, 1]\n",
    "        if img_transform:\n",
    "            ip_img = self.img_transform(ip_img)\n",
    "        if self.tgt_transform:\n",
    "            target = self.tgt_transform(tgt_lbl)\n",
    "        return ip_img, target\n",
    "        "
   ]
  },
  {
   "cell_type": "markdown",
   "id": "921c96a8",
   "metadata": {},
   "source": [
    "## Dataloaders to iterate over the dataset"
   ]
  },
  {
   "cell_type": "code",
   "execution_count": 7,
   "id": "777e2192",
   "metadata": {},
   "outputs": [],
   "source": [
    "train_dl = DataLoader(training_data, batch_size=64, shuffle=True)\n",
    "test_dl = DataLoader(test_data, batch_size=64, shuffle=False)"
   ]
  },
  {
   "cell_type": "markdown",
   "id": "7fcba629",
   "metadata": {},
   "source": [
    "### Display some samples"
   ]
  },
  {
   "cell_type": "code",
   "execution_count": 8,
   "id": "7e5fe571",
   "metadata": {},
   "outputs": [
    {
     "name": "stdout",
     "output_type": "stream",
     "text": [
      "Size of training batch torch.Size([64, 1, 28, 28])\n",
      "Size of test batch torch.Size([64])\n"
     ]
    },
    {
     "data": {
      "image/png": "[encoded data removed]",
      "text/plain": [
       "<Figure size 432x288 with 1 Axes>"
      ]
     },
     "metadata": {
      "needs_background": "light"
     },
     "output_type": "display_data"
    }
   ],
   "source": [
    "train_imgs, train_tgts = next(iter(train_dl))\n",
    "print(\"Size of training batch {}\".format(train_imgs.size()))\n",
    "print(\"Size of test batch {}\".format(train_tgts.size()))\n",
    "img = train_imgs[0].squeeze()\n",
    "lbl = train_tgts[0]\n",
    "plt.imshow(img)\n",
    "plt.title(lbl)\n",
    "plt.show()"
   ]
  },
  {
   "cell_type": "markdown",
   "id": "1357e365",
   "metadata": {},
   "source": [
    "# Define model architechture"
   ]
  },
  {
   "cell_type": "code",
   "execution_count": 33,
   "id": "a535ef19",
   "metadata": {},
   "outputs": [],
   "source": [
    "class NeuralNetwork(nn.Module):\n",
    "    def __init__(self):\n",
    "        super(NeuralNetwork, self).__init__()\n",
    "        self.flatten = nn.Flatten()\n",
    "        self.linear_relu_stack = nn.Sequential(\n",
    "            nn.Linear(28*28, 512),\n",
    "            nn.ReLU(),\n",
    "            nn.Linear(512, 512),\n",
    "            nn.ReLU(),\n",
    "            nn.Linear(512, 10),\n",
    "        )\n",
    "        \n",
    "    def forward(self, X):\n",
    "        X = self.flatten(X)\n",
    "        X = self.linear_relu_stack(X)\n",
    "        return X"
   ]
  },
  {
   "cell_type": "code",
   "execution_count": 34,
   "id": "7885daf9",
   "metadata": {},
   "outputs": [],
   "source": [
    "img_class_model = NeuralNetwork()"
   ]
  },
  {
   "cell_type": "markdown",
   "id": "06ebfe16",
   "metadata": {},
   "source": [
    "# Train and Validate model"
   ]
  },
  {
   "cell_type": "code",
   "execution_count": 35,
   "id": "b3538aaf",
   "metadata": {},
   "outputs": [],
   "source": [
    "# define model hyper parameters\n",
    "num_epochs = 10\n",
    "learning_rate = 1e-4\n",
    "batch_size = 64"
   ]
  },
  {
   "cell_type": "code",
   "execution_count": 36,
   "id": "416fed04",
   "metadata": {},
   "outputs": [],
   "source": [
    "# define optimization and loss\n",
    "loss_fn = nn.CrossEntropyLoss()\n",
    "optimizer = optim.SGD(img_class_model.parameters(), lr=learning_rate)"
   ]
  },
  {
   "cell_type": "code",
   "execution_count": 47,
   "id": "73fd8fae",
   "metadata": {},
   "outputs": [],
   "source": [
    "def train(dataloader, img_class_model, loss_fn, optimizer):\n",
    "    size = len(train_dl.dataset)\n",
    "    print(\"Size of dataset\", size)\n",
    "    for batch, (X, y) in enumerate(dataloader):\n",
    "        # reset gradients for every epoch\n",
    "        optimizer.zero_grad()\n",
    "        \n",
    "        # compute prediction and loss respectively\n",
    "        pred = img_class_model(X)\n",
    "        loss = loss_fn(pred, y)\n",
    "        \n",
    "        # backpropagate loss and update weights\n",
    "        loss.backward()\n",
    "        optimizer.step()\n",
    "        \n",
    "        if batch%100 == 0:\n",
    "            loss = loss.item()\n",
    "            current = batch*len(X)\n",
    "            print(f\"loss: {loss:>5f} [{current:>5d}/{size:>5d}]\")\n",
    "    \n",
    "def test(dataloader, img_class_model, loss_fn):\n",
    "    size = len(dataloader.dataset)\n",
    "    num_batches = len(dataloader)\n",
    "    test_loss, current_acc = 0, 0\n",
    "    \n",
    "    with torch.no_grad():\n",
    "        for X, y in dataloader:\n",
    "            pred = img_class_model(X)\n",
    "            test_loss = loss_fn(pred, y).item()\n",
    "            current_acc += (pred.argmax(1) == y).type(torch.float).sum().item()\n",
    "        \n",
    "    test_loss /= num_batches\n",
    "    current_acc /= size\n",
    "    print(f\"Test Error: \\n Accuracy: {(100*current_acc):>0.1f}%, Avg loss: {test_loss:>8f} \\n\")"
   ]
  },
  {
   "cell_type": "code",
   "execution_count": 48,
   "id": "desirable-catering",
   "metadata": {
    "scrolled": true
   },
   "outputs": [
    {
     "name": "stdout",
     "output_type": "stream",
     "text": [
      "Epoch 1\n",
      "...................\n",
      "Size of dataset 60000\n",
      "loss: 2.250966 [    0/60000]\n",
      "loss: 2.259242 [ 6400/60000]\n",
      "loss: 2.259505 [12800/60000]\n",
      "loss: 2.246929 [19200/60000]\n",
      "loss: 2.247298 [25600/60000]\n",
      "loss: 2.250703 [32000/60000]\n",
      "loss: 2.255847 [38400/60000]\n",
      "loss: 2.235985 [44800/60000]\n",
      "loss: 2.247018 [51200/60000]\n",
      "loss: 2.236262 [57600/60000]\n",
      "Test Error: \n",
      " Accuracy: 23.8%, Avg loss: 0.014487 \n",
      "\n",
      "Epoch 2\n",
      "...................\n",
      "Size of dataset 60000\n",
      "loss: 2.254313 [    0/60000]\n",
      "loss: 2.249129 [ 6400/60000]\n",
      "loss: 2.234882 [12800/60000]\n",
      "loss: 2.240003 [19200/60000]\n",
      "loss: 2.235216 [25600/60000]\n",
      "loss: 2.252574 [32000/60000]\n",
      "loss: 2.243616 [38400/60000]\n",
      "loss: 2.245604 [44800/60000]\n",
      "loss: 2.246610 [51200/60000]\n",
      "loss: 2.232586 [57600/60000]\n",
      "Test Error: \n",
      " Accuracy: 28.7%, Avg loss: 0.014416 \n",
      "\n",
      "Epoch 3\n",
      "...................\n",
      "Size of dataset 60000\n",
      "loss: 2.234846 [    0/60000]\n",
      "loss: 2.222067 [ 6400/60000]\n",
      "loss: 2.222775 [12800/60000]\n",
      "loss: 2.219747 [19200/60000]\n",
      "loss: 2.230285 [25600/60000]\n",
      "loss: 2.230148 [32000/60000]\n",
      "loss: 2.225134 [38400/60000]\n",
      "loss: 2.212664 [44800/60000]\n",
      "loss: 2.228162 [51200/60000]\n",
      "loss: 2.206318 [57600/60000]\n",
      "Test Error: \n",
      " Accuracy: 33.8%, Avg loss: 0.014339 \n",
      "\n",
      "Epoch 4\n",
      "...................\n",
      "Size of dataset 60000\n",
      "loss: 2.232947 [    0/60000]\n",
      "loss: 2.191475 [ 6400/60000]\n",
      "loss: 2.212728 [12800/60000]\n",
      "loss: 2.191527 [19200/60000]\n",
      "loss: 2.206582 [25600/60000]\n",
      "loss: 2.216072 [32000/60000]\n",
      "loss: 2.217080 [38400/60000]\n",
      "loss: 2.212850 [44800/60000]\n",
      "loss: 2.205673 [51200/60000]\n",
      "loss: 2.206200 [57600/60000]\n",
      "Test Error: \n",
      " Accuracy: 38.4%, Avg loss: 0.014258 \n",
      "\n",
      "Epoch 5\n",
      "...................\n",
      "Size of dataset 60000\n",
      "loss: 2.183365 [    0/60000]\n",
      "loss: 2.202850 [ 6400/60000]\n",
      "loss: 2.201143 [12800/60000]\n",
      "loss: 2.223329 [19200/60000]\n",
      "loss: 2.184164 [25600/60000]\n",
      "loss: 2.204726 [32000/60000]\n",
      "loss: 2.164724 [38400/60000]\n",
      "loss: 2.199464 [44800/60000]\n",
      "loss: 2.181650 [51200/60000]\n",
      "loss: 2.189543 [57600/60000]\n",
      "Test Error: \n",
      " Accuracy: 42.3%, Avg loss: 0.014171 \n",
      "\n",
      "Epoch 6\n",
      "...................\n",
      "Size of dataset 60000\n",
      "loss: 2.188765 [    0/60000]\n",
      "loss: 2.197706 [ 6400/60000]\n",
      "loss: 2.172421 [12800/60000]\n",
      "loss: 2.182832 [19200/60000]\n",
      "loss: 2.187438 [25600/60000]\n",
      "loss: 2.197002 [32000/60000]\n",
      "loss: 2.160466 [38400/60000]\n",
      "loss: 2.180514 [44800/60000]\n",
      "loss: 2.163337 [51200/60000]\n",
      "loss: 2.152054 [57600/60000]\n",
      "Test Error: \n",
      " Accuracy: 46.2%, Avg loss: 0.014077 \n",
      "\n",
      "Epoch 7\n",
      "...................\n",
      "Size of dataset 60000\n",
      "loss: 2.182558 [    0/60000]\n",
      "loss: 2.156291 [ 6400/60000]\n",
      "loss: 2.178726 [12800/60000]\n",
      "loss: 2.173020 [19200/60000]\n",
      "loss: 2.163616 [25600/60000]\n",
      "loss: 2.152697 [32000/60000]\n",
      "loss: 2.153556 [38400/60000]\n",
      "loss: 2.157565 [44800/60000]\n",
      "loss: 2.158680 [51200/60000]\n",
      "loss: 2.148487 [57600/60000]\n",
      "Test Error: \n",
      " Accuracy: 49.4%, Avg loss: 0.013975 \n",
      "\n",
      "Epoch 8\n",
      "...................\n",
      "Size of dataset 60000\n",
      "loss: 2.170566 [    0/60000]\n",
      "loss: 2.125884 [ 6400/60000]\n",
      "loss: 2.138906 [12800/60000]\n",
      "loss: 2.164700 [19200/60000]\n",
      "loss: 2.139804 [25600/60000]\n",
      "loss: 2.117553 [32000/60000]\n",
      "loss: 2.128924 [38400/60000]\n",
      "loss: 2.098837 [44800/60000]\n",
      "loss: 2.140604 [51200/60000]\n",
      "loss: 2.131617 [57600/60000]\n",
      "Test Error: \n",
      " Accuracy: 51.6%, Avg loss: 0.013864 \n",
      "\n",
      "Epoch 9\n",
      "...................\n",
      "Size of dataset 60000\n",
      "loss: 2.136138 [    0/60000]\n",
      "loss: 2.133296 [ 6400/60000]\n",
      "loss: 2.130414 [12800/60000]\n",
      "loss: 2.093676 [19200/60000]\n",
      "loss: 2.136464 [25600/60000]\n",
      "loss: 2.108765 [32000/60000]\n",
      "loss: 2.117282 [38400/60000]\n",
      "loss: 2.115417 [44800/60000]\n",
      "loss: 2.102319 [51200/60000]\n",
      "loss: 2.091316 [57600/60000]\n",
      "Test Error: \n",
      " Accuracy: 53.1%, Avg loss: 0.013742 \n",
      "\n",
      "Epoch 10\n",
      "...................\n",
      "Size of dataset 60000\n",
      "loss: 2.140174 [    0/60000]\n",
      "loss: 2.100630 [ 6400/60000]\n",
      "loss: 2.107334 [12800/60000]\n",
      "loss: 2.121318 [19200/60000]\n",
      "loss: 2.117370 [25600/60000]\n",
      "loss: 2.089655 [32000/60000]\n",
      "loss: 2.066716 [38400/60000]\n",
      "loss: 2.121121 [44800/60000]\n",
      "loss: 2.069320 [51200/60000]\n",
      "loss: 2.097114 [57600/60000]\n",
      "Test Error: \n",
      " Accuracy: 54.5%, Avg loss: 0.013610 \n",
      "\n",
      "Done!\n"
     ]
    }
   ],
   "source": [
    "for epoch in range(num_epochs):\n",
    "    print(f\"Epoch {epoch+1}\\n...................\")\n",
    "    train(train_dl, img_class_model, loss_fn, optimizer)\n",
    "    test(test_dl, img_class_model, loss_fn)\n",
    "print(\"Done!\")"
   ]
  },
  {
   "cell_type": "code",
   "execution_count": 52,
   "id": "dc982fa5",
   "metadata": {},
   "outputs": [
    {
     "name": "stdout",
     "output_type": "stream",
     "text": [
      "157\n"
     ]
    }
   ],
   "source": [
    "print(len(test_dl))"
   ]
  },
  {
   "cell_type": "code",
   "execution_count": null,
   "id": "female-acrylic",
   "metadata": {},
   "outputs": [],
   "source": []
  }
 ],
 "metadata": {
  "kernelspec": {
   "display_name": "Environment (conda_pytorch_latest_p37)",
   "language": "python",
   "name": "conda_pytorch_latest_p37"
  },
  "language_info": {
   "codemirror_mode": {
    "name": "ipython",
    "version": 3
   },
   "file_extension": ".py",
   "mimetype": "text/x-python",
   "name": "python",
   "nbconvert_exporter": "python",
   "pygments_lexer": "ipython3",
   "version": "3.7.10"
  }
 },
 "nbformat": 4,
 "nbformat_minor": 5
}
