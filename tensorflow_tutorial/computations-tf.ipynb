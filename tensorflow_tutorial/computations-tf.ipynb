{
 "cells": [
  {
   "cell_type": "code",
   "execution_count": 12,
   "metadata": {},
   "outputs": [],
   "source": [
    "import tensorflow as tf"
   ]
  },
  {
   "cell_type": "code",
   "execution_count": 16,
   "metadata": {},
   "outputs": [],
   "source": [
    "# Define variable\n",
    "x_1 = tf.placeholder(tf.float32, name=\"x_1\")\n",
    "x_2 = tf.placeholder(tf.float32, name=\"x_2\")\n",
    "# Define computation\n",
    "multiply = tf.multiply(x_1, x_2, name='multiply')\n",
    "\n",
    "x_1sqr = tf.math.square(x_1, name='x_1square')\n",
    "x_2sqr = tf.math.square(x_2, name='x_2square')\n",
    "sum_squares = tf.add(x_1sqr, x_2sqr, name = 'sumOfSquares')"
   ]
  },
  {
   "cell_type": "code",
   "execution_count": 17,
   "metadata": {},
   "outputs": [
    {
     "name": "stdout",
     "output_type": "stream",
     "text": [
      "Multiply two tensors =  [[2. 0.]\n",
      " [0. 2.]]\n",
      "Sum of squares of two arrays =  [13. 13.]\n"
     ]
    }
   ],
   "source": [
    "# Execute the operation\n",
    "with tf.Session() as sess:\n",
    "    result1 = sess.run(multiply, feed_dict={x_1:[[1,0],[0,1]], \n",
    "                                           x_2:[[2,0],[0,2]]})\n",
    "    print(\"Multiply two tensors = \", result1) \n",
    "    \n",
    "    result2 = sess.run(sum_squares, feed_dict={x_1:[2,2], x_2:[3,3]})\n",
    "    print(\"Sum of squares of two arrays = \", result2) "
   ]
  },
  {
   "cell_type": "code",
   "execution_count": null,
   "metadata": {},
   "outputs": [],
   "source": []
  }
 ],
 "metadata": {
  "kernelspec": {
   "display_name": "Python 3",
   "language": "python",
   "name": "python3"
  },
  "language_info": {
   "codemirror_mode": {
    "name": "ipython",
    "version": 3
   },
   "file_extension": ".py",
   "mimetype": "text/x-python",
   "name": "python",
   "nbconvert_exporter": "python",
   "pygments_lexer": "ipython3",
   "version": "3.6.9"
  }
 },
 "nbformat": 4,
 "nbformat_minor": 2
}
