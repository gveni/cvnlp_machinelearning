{
 "cells": [
  {
   "cell_type": "code",
   "execution_count": 1,
   "metadata": {},
   "outputs": [],
   "source": [
    "import numpy as np\n",
    "import tensorflow as tf"
   ]
  },
  {
   "cell_type": "code",
   "execution_count": 7,
   "metadata": {},
   "outputs": [
    {
     "name": "stdout",
     "output_type": "stream",
     "text": [
      "WARNING:tensorflow:From /usr/local/anaconda3/envs/tutorial-tf/lib/python3.6/site-packages/tensorflow/python/data/ops/dataset_ops.py:1419: colocate_with (from tensorflow.python.framework.ops) is deprecated and will be removed in a future version.\n",
      "Instructions for updating:\n",
      "Colocations handled automatically by placer.\n"
     ]
    }
   ],
   "source": [
    "x_input = np.random.sample([1,2])  # create a numpy array\n",
    "\n",
    "# create a placeholder\n",
    "x = tf.placeholder(tf.float32, shape=[1,2], name = 'X')\n",
    "# define dataset to populate values of placeholder X\n",
    "dataset = tf.data.Dataset.from_tensor_slices(x) \n",
    "# create a pipeline for the data to flow. This is done using iterator\n",
    "iterator = dataset.make_initializable_iterator()\n",
    "get_next = iterator.get_next()  # call this iterator to feed the next batch of data"
   ]
  },
  {
   "cell_type": "code",
   "execution_count": 10,
   "metadata": {},
   "outputs": [
    {
     "name": "stdout",
     "output_type": "stream",
     "text": [
      "[0.60063213 0.21443962]\n"
     ]
    }
   ],
   "source": [
    "# Execute the operation\n",
    "with tf.Session() as sess:\n",
    "    # initialize iterator and feed the feed_dict with x_input\n",
    "    sess.run(iterator.initializer, feed_dict={x:x_input}) \n",
    "    # run get_next \n",
    "    result = sess.run(get_next)\n",
    "    print(result)"
   ]
  },
  {
   "cell_type": "code",
   "execution_count": null,
   "metadata": {},
   "outputs": [],
   "source": []
  }
 ],
 "metadata": {
  "kernelspec": {
   "display_name": "Python 3",
   "language": "python",
   "name": "python3"
  },
  "language_info": {
   "codemirror_mode": {
    "name": "ipython",
    "version": 3
   },
   "file_extension": ".py",
   "mimetype": "text/x-python",
   "name": "python",
   "nbconvert_exporter": "python",
   "pygments_lexer": "ipython3",
   "version": "3.6.9"
  }
 },
 "nbformat": 4,
 "nbformat_minor": 2
}
