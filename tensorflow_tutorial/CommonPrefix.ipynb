{
 "cells": [
  {
   "cell_type": "code",
   "execution_count": 1,
   "metadata": {},
   "outputs": [],
   "source": [
    "def minStrLen(strList):\n",
    "    minLen = 1000\n",
    "    for s in strList:\n",
    "        if len(s) < minLen:\n",
    "            minLen = len(s)\n",
    "\n",
    "    print(\"Minimum length of string\", minLen)\n",
    "    return minLen"
   ]
  },
  {
   "cell_type": "code",
   "execution_count": 33,
   "metadata": {},
   "outputs": [],
   "source": [
    "def commonPrefixNaive(strList):\n",
    "    commmon_prefix = \"\"\n",
    "    minStringLength = minStrLen(strList)\n",
    "    for c in range(minStringLength):\n",
    "        ref_c = strList[0][c]\n",
    "        for s in strList[1:]:\n",
    "            if s[c] != ref_c:\n",
    "                return commmon_prefix\n",
    "        commmon_prefix = commmon_prefix + ref_c\n",
    "    \n",
    "    return commmon_prefix"
   ]
  },
  {
   "cell_type": "code",
   "execution_count": 48,
   "metadata": {},
   "outputs": [],
   "source": [
    "def commonPrefix(strList, ref_str, start, end):\n",
    "#     for c in range(start, end+1):\n",
    "#         ref_c = strList[0][c]\n",
    "#         for s in strList[1:]:\n",
    "#             if s[c] != ref_c:\n",
    "    for s in range(0, len(strList)):\n",
    "        word = strList[s]\n",
    "        for c in range(start, end+1):\n",
    "            if word[c] != ref_str[c]:\n",
    "                return False\n",
    "    return True    "
   ]
  },
  {
   "cell_type": "code",
   "execution_count": 49,
   "metadata": {},
   "outputs": [],
   "source": [
    "def commonPrefixBinarySearch(strList):\n",
    "    common_prefix = \"\"\n",
    "    minStringLength = minStrLen(strList)\n",
    "    \n",
    "    start = 0\n",
    "    end = minStringLength-1\n",
    "    while start <= end:\n",
    "        mid = int(start + (end - start)/2)\n",
    "        if commonPrefix(strList, strList[0], start, mid):\n",
    "            common_prefix = common_prefix + strList[0][start:mid+1]\n",
    "\n",
    "            start = mid\n",
    "        else:\n",
    "            end = mid\n",
    "\n",
    "        return common_prefix"
   ]
  },
  {
   "cell_type": "code",
   "execution_count": 50,
   "metadata": {},
   "outputs": [
    {
     "name": "stdout",
     "output_type": "stream",
     "text": [
      "Minimum length of string 6\n",
      "Longest common_prefix =  far\n"
     ]
    }
   ],
   "source": [
    "stringList = ['farmsd', 'farming', 'farmland', 'farmlabor', 'farmlord']\n",
    "longestCommonPrefix = commonPrefixBinarySearch(stringList)\n",
    "print(\"Longest common_prefix = \", longestCommonPrefix)"
   ]
  },
  {
   "cell_type": "code",
   "execution_count": null,
   "metadata": {},
   "outputs": [],
   "source": []
  },
  {
   "cell_type": "code",
   "execution_count": null,
   "metadata": {},
   "outputs": [],
   "source": []
  }
 ],
 "metadata": {
  "kernelspec": {
   "display_name": "Python 3",
   "language": "python",
   "name": "python3"
  },
  "language_info": {
   "codemirror_mode": {
    "name": "ipython",
    "version": 3
   },
   "file_extension": ".py",
   "mimetype": "text/x-python",
   "name": "python",
   "nbconvert_exporter": "python",
   "pygments_lexer": "ipython3",
   "version": "3.6.9"
  }
 },
 "nbformat": 4,
 "nbformat_minor": 2
}
